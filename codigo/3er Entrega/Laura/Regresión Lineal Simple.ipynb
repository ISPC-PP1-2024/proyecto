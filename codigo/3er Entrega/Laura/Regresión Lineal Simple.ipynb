{
 "cells": [
  {
   "cell_type": "markdown",
   "id": "272ab10a-0d51-4b22-a538-ed504b9f895e",
   "metadata": {},
   "source": [
    "# Regresión Lineal Simple"
   ]
  },
  {
   "cell_type": "markdown",
   "id": "08480447-a8c7-47ef-8914-7547682722cd",
   "metadata": {},
   "source": [
    "*La regresión lineal simple es una técnica estadística utilizada en el análisis de datos para modelar la relación entre dos variables: una variable independiente (predictora) y una variable dependiente (respuesta). Se basa en la premisa de que hay una relación lineal entre estas dos variables.*"
   ]
  },
  {
   "cell_type": "markdown",
   "id": "5b2acf1b-d701-43c5-9eaa-4152962523bf",
   "metadata": {},
   "source": [
    "## ¿Qué es?\n",
    "En su forma más básica, la regresión lineal simple se puede representar como una linea recta: \"y = wx + b\" donde:\n",
    "* \\( y \\) es la variable dependiente.\n",
    "* \\( x \\) es la variable independiente.\n",
    "* \\( w \\) es la pendiente de la línea (que representa el cambio en \\( y \\) por cada unidad de cambio en \\( x \\)).\n",
    "* \\( b \\) es la intersección en el eje \\( y \\)."
   ]
  },
  {
   "cell_type": "markdown",
   "id": "60100ac3-1e9b-4c4d-a3d4-f078b016af9b",
   "metadata": {},
   "source": [
    "## ¿Para qué sirve?\n",
    "\n",
    "1. **Predicción**: Permite predecir el valor de la variable dependiente basado en el valor de la variable independiente. Por ejemplo, predecir el precio de una casa basado en su tamaño.\n",
    "2. **Análisis de relaciones**: Ayuda a entender la fuerza y dirección de la relación entre las variables. Por ejemplo, se puede evaluar si hay una relación positiva o negativa entre la cantidad de horas estudiadas y el rendimiento en un examen.\n",
    "3. **Identificación de tendencias**: Facilita la identificación de tendencias en los datos a lo largo del tiempo o en diferentes categorías.\n",
    "4. **Toma de decisiones**: Proporciona información valiosa para la toma de decisiones en negocios, economía, salud, y otras áreas al mostrar cómo las variables afectan unas a otras.\n",
    "5. **Simplicidad**: Es fácil de interpretar y de implementar, lo que la hace accesible para aquellos que no son expertos en estadísticas."
   ]
  },
  {
   "cell_type": "markdown",
   "id": "04accc2f-996f-4bf0-ab49-1f4b6cb1a857",
   "metadata": {},
   "source": [
    "## Conculsión:\n",
    "En resumen, la regresión lineal simple es una **herramienta** poderosa en el **análisis de datos** que ayuda a modelar, entender y predecir comportamientos y relaciones entre variables."
   ]
  },
  {
   "cell_type": "code",
   "execution_count": null,
   "id": "8adc6fc0-0044-4ee2-8edf-d6bae2108cea",
   "metadata": {},
   "outputs": [],
   "source": []
  }
 ],
 "metadata": {
  "kernelspec": {
   "display_name": "Python 3 (ipykernel)",
   "language": "python",
   "name": "python3"
  },
  "language_info": {
   "codemirror_mode": {
    "name": "ipython",
    "version": 3
   },
   "file_extension": ".py",
   "mimetype": "text/x-python",
   "name": "python",
   "nbconvert_exporter": "python",
   "pygments_lexer": "ipython3",
   "version": "3.12.4"
  }
 },
 "nbformat": 4,
 "nbformat_minor": 5
}
